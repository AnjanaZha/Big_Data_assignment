{
 "cells": [
  {
   "cell_type": "code",
   "execution_count": 1,
   "metadata": {},
   "outputs": [],
   "source": [
    "from pyspark.sql import SparkSession\n",
    "from pyspark.ml.feature import StringIndexer, OneHotEncoder, VectorAssembler, StandardScaler\n",
    "from pyspark.ml.classification import LogisticRegression, RandomForestClassifier, GBTClassifier, DecisionTreeClassifier\n",
    "from pyspark.ml.evaluation import BinaryClassificationEvaluator\n",
    "from pyspark.ml import Pipeline\n",
    "\n"
   ]
  },
  {
   "cell_type": "code",
   "execution_count": 2,
   "metadata": {},
   "outputs": [],
   "source": [
    "# Initialize Spark session\n",
    "spark = SparkSession.builder \\\n",
    "    .appName(\"Loan Default Prediction\") \\\n",
    "    .getOrCreate()"
   ]
  },
  {
   "cell_type": "code",
   "execution_count": 4,
   "metadata": {},
   "outputs": [
    {
     "name": "stdout",
     "output_type": "stream",
     "text": [
      "+---+-------+---+----------+--------------+---------------+-------------+--------------------+-------------------+--------------+---------------+-----------------+---------+\n",
      "| Id| Income|Age|Experience|Married/Single|House_Ownership|Car_Ownership|          Profession|               CITY|         STATE|CURRENT_JOB_YRS|CURRENT_HOUSE_YRS|Risk_Flag|\n",
      "+---+-------+---+----------+--------------+---------------+-------------+--------------------+-------------------+--------------+---------------+-----------------+---------+\n",
      "|  1|1303834| 23|         3|        single|         rented|           no| Mechanical_engineer|               Rewa|Madhya_Pradesh|              3|               13|        0|\n",
      "|  2|7574516| 40|        10|        single|         rented|           no|  Software_Developer|           Parbhani|   Maharashtra|              9|               13|        0|\n",
      "|  3|3991815| 66|         4|       married|         rented|           no|    Technical_writer|          Alappuzha|        Kerala|              4|               10|        0|\n",
      "|  4|6256451| 41|         2|        single|         rented|          yes|  Software_Developer|        Bhubaneswar|        Odisha|              2|               12|        1|\n",
      "|  5|5768871| 47|        11|        single|         rented|           no|       Civil_servant|Tiruchirappalli[10]|    Tamil_Nadu|              3|               14|        1|\n",
      "|  6|6915937| 64|         0|        single|         rented|           no|       Civil_servant|            Jalgaon|   Maharashtra|              0|               12|        0|\n",
      "|  7|3954973| 58|        14|       married|         rented|           no|           Librarian|           Tiruppur|    Tamil_Nadu|              8|               12|        0|\n",
      "|  8|1706172| 33|         2|        single|         rented|           no|           Economist|           Jamnagar|       Gujarat|              2|               14|        0|\n",
      "|  9|7566849| 24|        17|        single|         rented|          yes|    Flight_attendant|            Kota[6]|     Rajasthan|             11|               11|        0|\n",
      "| 10|8964846| 23|        12|        single|         rented|           no|           Architect|         Karimnagar|     Telangana|              5|               13|        0|\n",
      "| 11|4634680| 78|         7|        single|         rented|           no|    Flight_attendant|        Hajipur[31]|         Bihar|              7|               12|        0|\n",
      "| 12|6623263| 22|         4|        single|         rented|           no|            Designer|              Adoni|Andhra_Pradesh|              4|               14|        0|\n",
      "| 13|9120988| 28|         9|        single|         rented|           no|           Physician|          Erode[17]|    Tamil_Nadu|              9|               12|        0|\n",
      "| 14|8043880| 57|        12|        single|         rented|           no|   Financial_Analyst|             Kollam|        Kerala|              8|               10|        0|\n",
      "| 15|9420838| 48|         6|        single|         rented|           no|    Technical_writer|            Madurai|    Tamil_Nadu|              6|               10|        1|\n",
      "| 16|5694236| 39|         2|       married|         rented|          yes|           Economist|    Anantapuram[24]|Andhra_Pradesh|              2|               10|        0|\n",
      "| 17|7315840| 71|         8|       married|         rented|           no|Air_traffic_contr...|          Kamarhati|   West_Bengal|              8|               14|        0|\n",
      "| 18|3666346| 56|        12|        single|         rented|           no|          Politician|           Bhusawal|   Maharashtra|             12|               11|        1|\n",
      "| 19|2241112| 28|         8|        single|         rented|           no|      Police_officer|              Sirsa|       Haryana|              6|               14|        0|\n",
      "| 20|5431918| 40|         1|        single|         rented|           no|              Artist|          Amaravati|Andhra_Pradesh|              1|               14|        0|\n",
      "+---+-------+---+----------+--------------+---------------+-------------+--------------------+-------------------+--------------+---------------+-----------------+---------+\n",
      "only showing top 20 rows\n",
      "\n"
     ]
    }
   ],
   "source": [
    "# Load data\n",
    "\n",
    "\n",
    "\n",
    "train_df = spark.read.csv(\"Training Data.csv\", header=True, inferSchema=True)\n",
    "train_df.show()"
   ]
  },
  {
   "cell_type": "code",
   "execution_count": 5,
   "metadata": {},
   "outputs": [
    {
     "name": "stdout",
     "output_type": "stream",
     "text": [
      "+-------+-----------------+-----------------+------------------+------------------+--------------+---------------+-------------+--------------------+-----------+--------------+------------------+------------------+------------------+\n",
      "|summary|               Id|           Income|               Age|        Experience|Married/Single|House_Ownership|Car_Ownership|          Profession|       CITY|         STATE|   CURRENT_JOB_YRS| CURRENT_HOUSE_YRS|         Risk_Flag|\n",
      "+-------+-----------------+-----------------+------------------+------------------+--------------+---------------+-------------+--------------------+-----------+--------------+------------------+------------------+------------------+\n",
      "|  count|           252000|           252000|            252000|            252000|        252000|         252000|       252000|              252000|     252000|        252000|            252000|            252000|            252000|\n",
      "|   mean|         126000.5|4997116.665325397| 49.95407142857143|10.084436507936507|          NULL|           NULL|         NULL|                NULL|       NULL|          NULL| 6.333876984126984|11.997793650793652|             0.123|\n",
      "| stddev|72746.27825531695|2878311.013611118|17.063854818338413| 6.002589848156749|          NULL|           NULL|         NULL|                NULL|       NULL|          NULL|3.6470530031609805| 1.399036985360311|0.3284378602737855|\n",
      "|    min|                1|            10310|                21|                 0|       married|   norent_noown|           no|Air_traffic_contr...|      Adoni|Andhra_Pradesh|                 0|                10|                 0|\n",
      "|    max|           252000|          9999938|                79|                20|        single|         rented|          yes|        Web_designer|Yamunanagar|   West_Bengal|                14|                14|                 1|\n",
      "+-------+-----------------+-----------------+------------------+------------------+--------------+---------------+-------------+--------------------+-----------+--------------+------------------+------------------+------------------+\n",
      "\n",
      "root\n",
      " |-- Id: integer (nullable = true)\n",
      " |-- Income: integer (nullable = true)\n",
      " |-- Age: integer (nullable = true)\n",
      " |-- Experience: integer (nullable = true)\n",
      " |-- Married/Single: string (nullable = true)\n",
      " |-- House_Ownership: string (nullable = true)\n",
      " |-- Car_Ownership: string (nullable = true)\n",
      " |-- Profession: string (nullable = true)\n",
      " |-- CITY: string (nullable = true)\n",
      " |-- STATE: string (nullable = true)\n",
      " |-- CURRENT_JOB_YRS: integer (nullable = true)\n",
      " |-- CURRENT_HOUSE_YRS: integer (nullable = true)\n",
      " |-- Risk_Flag: integer (nullable = true)\n",
      "\n"
     ]
    }
   ],
   "source": [
    "# EDA\n",
    "train_df.describe().show()\n",
    "train_df.printSchema()"
   ]
  },
  {
   "cell_type": "code",
   "execution_count": 10,
   "metadata": {},
   "outputs": [
    {
     "data": {
      "text/plain": [
       "[('Income', 'int'),\n",
       " ('Age', 'int'),\n",
       " ('Experience', 'int'),\n",
       " ('Married/Single', 'string'),\n",
       " ('House_Ownership', 'string'),\n",
       " ('Car_Ownership', 'string'),\n",
       " ('Profession', 'string'),\n",
       " ('CITY', 'string'),\n",
       " ('STATE', 'string'),\n",
       " ('CURRENT_JOB_YRS', 'int'),\n",
       " ('CURRENT_HOUSE_YRS', 'int'),\n",
       " ('Risk_Flag', 'int')]"
      ]
     },
     "execution_count": 10,
     "metadata": {},
     "output_type": "execute_result"
    }
   ],
   "source": [
    "train_df.dtypes"
   ]
  },
  {
   "cell_type": "code",
   "execution_count": 7,
   "metadata": {},
   "outputs": [],
   "source": [
    "train_df = train_df.drop('id')"
   ]
  },
  {
   "cell_type": "code",
   "execution_count": 8,
   "metadata": {},
   "outputs": [],
   "source": [
    "# Split the data into training and test sets (80% training, 20% test)\n",
    "train_data, test_data = train_df.randomSplit([0.8, 0.2], seed=1234)\n"
   ]
  },
  {
   "cell_type": "code",
   "execution_count": 9,
   "metadata": {},
   "outputs": [
    {
     "name": "stdout",
     "output_type": "stream",
     "text": [
      "['Married/Single', 'House_Ownership', 'Car_Ownership', 'Profession', 'CITY', 'STATE']\n",
      "['Income', 'Age', 'Experience', 'CURRENT_JOB_YRS', 'CURRENT_HOUSE_YRS']\n"
     ]
    }
   ],
   "source": [
    "categorical_cols = [col for col,type in train_df.dtypes if type=='string']\n",
    "numerical_cols = [col for col,type in train_df.dtypes if type=='int' and col !='Risk_Flag']\n",
    "\n",
    "print(categorical_cols)\n",
    "print(numerical_cols)\n"
   ]
  },
  {
   "cell_type": "code",
   "execution_count": 11,
   "metadata": {},
   "outputs": [
    {
     "data": {
      "text/plain": [
       "['Married/Single_ohe',\n",
       " 'House_Ownership_ohe',\n",
       " 'Car_Ownership_ohe',\n",
       " 'Profession_ohe',\n",
       " 'CITY_ohe',\n",
       " 'STATE_ohe']"
      ]
     },
     "execution_count": 11,
     "metadata": {},
     "output_type": "execute_result"
    }
   ],
   "source": [
    "\n",
    "indexers = []\n",
    "encoders = []\n",
    "encoded_feature_cols = []\n",
    "\n",
    "# Create indexers and encoders for each categorical feature\n",
    "for feature in categorical_cols:\n",
    "    indexer = StringIndexer(inputCol=feature, outputCol=f\"{feature}_index\")\n",
    "    encoder = OneHotEncoder(inputCol=f\"{feature}_index\", outputCol=f\"{feature}_ohe\")\n",
    "    indexers.append(indexer)\n",
    "    encoders.append(encoder)\n",
    "    encoded_feature_cols.append(f\"{feature}_ohe\")\n",
    "encoded_feature_cols"
   ]
  },
  {
   "cell_type": "code",
   "execution_count": 12,
   "metadata": {},
   "outputs": [
    {
     "data": {
      "text/plain": [
       "['Married/Single_ohe',\n",
       " 'House_Ownership_ohe',\n",
       " 'Car_Ownership_ohe',\n",
       " 'Profession_ohe',\n",
       " 'CITY_ohe',\n",
       " 'STATE_ohe',\n",
       " 'Income',\n",
       " 'Age',\n",
       " 'Experience',\n",
       " 'CURRENT_JOB_YRS',\n",
       " 'CURRENT_HOUSE_YRS']"
      ]
     },
     "execution_count": 12,
     "metadata": {},
     "output_type": "execute_result"
    }
   ],
   "source": [
    "encoded_feature_cols.extend(numerical_cols)\n",
    "encoded_feature_cols"
   ]
  },
  {
   "cell_type": "code",
   "execution_count": 13,
   "metadata": {},
   "outputs": [],
   "source": [
    "\n",
    "# Create a combined feature vector\n",
    "assembler = VectorAssembler(inputCols=encoded_feature_cols, outputCol=\"features\")\n",
    "\n",
    "# scaling\n",
    "scaler = StandardScaler(inputCol=\"features\", outputCol=\"scaledFeatures\")\n"
   ]
  },
  {
   "cell_type": "code",
   "execution_count": 14,
   "metadata": {},
   "outputs": [],
   "source": [
    "#define different models\n",
    "lr = LogisticRegression(featuresCol='features', labelCol='Risk_Flag',rawPredictionCol='rawPrediction')\n",
    "dt = DecisionTreeClassifier(featuresCol='features', labelCol='Risk_Flag', rawPredictionCol='rawPrediction')\n",
    "rf = RandomForestClassifier(featuresCol='features', labelCol='Risk_Flag', rawPredictionCol='rawPrediction')\n",
    "gb = GBTClassifier(featuresCol='features', labelCol='Risk_Flag')\n",
    "\n",
    "models = [lr, dt, rf,gb]\n",
    "model_names = ['Logistic Regression', 'Decision Tree', 'Random Forest','Gradient boost']\n"
   ]
  },
  {
   "cell_type": "code",
   "execution_count": 15,
   "metadata": {},
   "outputs": [],
   "source": [
    "evaluator = BinaryClassificationEvaluator(labelCol='Risk_Flag', rawPredictionCol='rawPrediction', metricName='areaUnderROC')\n"
   ]
  },
  {
   "cell_type": "code",
   "execution_count": 16,
   "metadata": {},
   "outputs": [],
   "source": [
    "def get_best_model(models,model_names,train_data,test_data):\n",
    "    \n",
    "    best_model = None\n",
    "    best_model_name = None\n",
    "    best_roc_auc = 0.0\n",
    "    \n",
    "    for model, model_name in zip(models, model_names):\n",
    "        # Create a pipeline with the indexers, encoders, assembler, and model\n",
    "        pipeline = Pipeline(stages=indexers + encoders + [assembler, scaler, model])\n",
    "        \n",
    "        # Fit the pipeline model on the training data\n",
    "        pipeline_model = pipeline.fit(train_data)\n",
    "        \n",
    "        # Make predictions on the test data\n",
    "        predictions = pipeline_model.transform(test_data)\n",
    "        \n",
    "        # Evaluate the model\n",
    "        roc_auc = evaluator.evaluate(predictions)\n",
    "        print(f\"ROC-AUC for {model_name}: {roc_auc}\")\n",
    "        \n",
    "        # Update the best model if the current model's ROC-AUC is higher\n",
    "        if roc_auc > best_roc_auc:\n",
    "            best_model = pipeline_model\n",
    "            best_model_name = model_name\n",
    "            best_roc_auc = roc_auc\n",
    "    \n",
    "    print(f\"Best Model: {best_model_name} with ROC-AUC: {best_roc_auc}\")\n",
    "\n",
    "    return best_model,best_model_name"
   ]
  },
  {
   "cell_type": "code",
   "execution_count": 17,
   "metadata": {},
   "outputs": [
    {
     "name": "stdout",
     "output_type": "stream",
     "text": [
      "ROC-AUC for Logistic Regression: 0.6247782472208662\n",
      "ROC-AUC for Decision Tree: 0.475568605520929\n",
      "ROC-AUC for Random Forest: 0.5778936615595347\n",
      "ROC-AUC for Gradient boost: 0.6336409305218053\n",
      "Best Model: Gradient boost with ROC-AUC: 0.6336409305218053\n",
      "+------+---+----------+--------------+---------------+-------------+-------------+---------------+--------------+---------------+-----------------+---------+--------------------+---------------------+-------------------+----------------+----------+-----------+------------------+-------------------+-----------------+---------------+-----------------+---------------+--------------------+--------------------+--------------------+--------------------+----------+\n",
      "|Income|Age|Experience|Married/Single|House_Ownership|Car_Ownership|   Profession|           CITY|         STATE|CURRENT_JOB_YRS|CURRENT_HOUSE_YRS|Risk_Flag|Married/Single_index|House_Ownership_index|Car_Ownership_index|Profession_index|CITY_index|STATE_index|Married/Single_ohe|House_Ownership_ohe|Car_Ownership_ohe| Profession_ohe|         CITY_ohe|      STATE_ohe|            features|      scaledFeatures|       rawPrediction|         probability|prediction|\n",
      "+------+---+----------+--------------+---------------+-------------+-------------+---------------+--------------+---------------+-----------------+---------+--------------------+---------------------+-------------------+----------------+----------+-----------+------------------+-------------------+-----------------+---------------+-----------------+---------------+--------------------+--------------------+--------------------+--------------------+----------+\n",
      "| 10310| 70|        20|        single|         rented|          yes|     Engineer|      Baranagar|   West_Bengal|              7|               14|        0|                 0.0|                  0.0|                1.0|            50.0|      62.0|        3.0|     (1,[0],[1.0])|      (2,[0],[1.0])|        (1,[],[])|     (50,[],[])| (316,[62],[1.0])| (28,[3],[1.0])|(403,[0,1,116,373...|(403,[0,1,116,373...|[0.95902463370664...|[0.87192074370355...|       0.0|\n",
      "| 10310| 70|        20|        single|         rented|          yes|     Engineer|      Baranagar|   West_Bengal|              7|               14|        0|                 0.0|                  0.0|                1.0|            50.0|      62.0|        3.0|     (1,[0],[1.0])|      (2,[0],[1.0])|        (1,[],[])|     (50,[],[])| (316,[62],[1.0])| (28,[3],[1.0])|(403,[0,1,116,373...|(403,[0,1,116,373...|[0.95902463370664...|[0.87192074370355...|       0.0|\n",
      "| 11114| 73|        19|        single|         rented|           no|     Surveyor|Nellore[14][15]|Andhra_Pradesh|              4|               14|        1|                 0.0|                  0.0|                0.0|            34.0|     237.0|        2.0|     (1,[0],[1.0])|      (2,[0],[1.0])|    (1,[0],[1.0])|(50,[34],[1.0])|(316,[237],[1.0])| (28,[2],[1.0])|(403,[0,1,3,38,29...|(403,[0,1,3,38,29...|[0.96980983599934...|[0.87431035452139...|       0.0|\n",
      "| 11430| 70|        20|        single|         rented|          yes|Civil_servant|Kalyan-Dombivli|   Maharashtra|              3|               13|        0|                 0.0|                  0.0|                1.0|            48.0|     194.0|        1.0|     (1,[0],[1.0])|      (2,[0],[1.0])|        (1,[],[])|(50,[48],[1.0])|(316,[194],[1.0])| (28,[1],[1.0])|(403,[0,1,52,248,...|(403,[0,1,52,248,...|[0.92843590925127...|[0.86493191620208...|       0.0|\n",
      "| 11430| 70|        20|        single|         rented|          yes|Civil_servant|Kalyan-Dombivli|   Maharashtra|              3|               13|        0|                 0.0|                  0.0|                1.0|            48.0|     194.0|        1.0|     (1,[0],[1.0])|      (2,[0],[1.0])|        (1,[],[])|(50,[48],[1.0])|(316,[194],[1.0])| (28,[1],[1.0])|(403,[0,1,52,248,...|(403,[0,1,52,248,...|[0.92843590925127...|[0.86493191620208...|       0.0|\n",
      "| 11430| 70|        20|        single|         rented|          yes|Civil_servant|Kalyan-Dombivli|   Maharashtra|              3|               13|        0|                 0.0|                  0.0|                1.0|            48.0|     194.0|        1.0|     (1,[0],[1.0])|      (2,[0],[1.0])|        (1,[],[])|(50,[48],[1.0])|(316,[194],[1.0])| (28,[1],[1.0])|(403,[0,1,52,248,...|(403,[0,1,52,248,...|[0.92843590925127...|[0.86493191620208...|       0.0|\n",
      "| 11430| 70|        20|        single|         rented|          yes|Civil_servant|Kalyan-Dombivli|   Maharashtra|              3|               13|        0|                 0.0|                  0.0|                1.0|            48.0|     194.0|        1.0|     (1,[0],[1.0])|      (2,[0],[1.0])|        (1,[],[])|(50,[48],[1.0])|(316,[194],[1.0])| (28,[1],[1.0])|(403,[0,1,52,248,...|(403,[0,1,52,248,...|[0.92843590925127...|[0.86493191620208...|       0.0|\n",
      "| 12608| 64|        19|        single|   norent_noown|           no|    Physician|       Dehradun|   Uttarakhand|              5|               11|        0|                 0.0|                  2.0|                0.0|             0.0|      77.0|       19.0|     (1,[0],[1.0])|          (2,[],[])|    (1,[0],[1.0])| (50,[0],[1.0])| (316,[77],[1.0])|(28,[19],[1.0])|(403,[0,3,4,131,3...|(403,[0,3,4,131,3...|[1.07489532858912...|[0.89564921296541...|       0.0|\n",
      "| 12902| 23|        12|        single|         rented|           no| Army_officer|      Anantapur|Andhra_Pradesh|              8|               12|        0|                 0.0|                  0.0|                0.0|            38.0|     296.0|        2.0|     (1,[0],[1.0])|      (2,[0],[1.0])|    (1,[0],[1.0])|(50,[38],[1.0])|(316,[296],[1.0])| (28,[2],[1.0])|(403,[0,1,3,42,35...|(403,[0,1,3,42,35...|[0.92327120817681...|[0.86372063172923...|       0.0|\n",
      "| 12902| 23|        12|        single|         rented|           no| Army_officer|      Anantapur|Andhra_Pradesh|              8|               12|        0|                 0.0|                  0.0|                0.0|            38.0|     296.0|        2.0|     (1,[0],[1.0])|      (2,[0],[1.0])|    (1,[0],[1.0])|(50,[38],[1.0])|(316,[296],[1.0])| (28,[2],[1.0])|(403,[0,1,3,42,35...|(403,[0,1,3,42,35...|[0.92327120817681...|[0.86372063172923...|       0.0|\n",
      "| 13429| 25|        18|        single|         rented|          yes|     Comedian|     Berhampore|   West_Bengal|             13|               11|        0|                 0.0|                  0.0|                1.0|             5.0|     152.0|        3.0|     (1,[0],[1.0])|      (2,[0],[1.0])|        (1,[],[])| (50,[5],[1.0])|(316,[152],[1.0])| (28,[3],[1.0])|(403,[0,1,9,206,3...|(403,[0,1,9,206,3...|[0.95380361940885...|[0.87075009487044...|       0.0|\n",
      "| 13429| 25|        18|        single|         rented|          yes|     Comedian|     Berhampore|   West_Bengal|             13|               11|        0|                 0.0|                  0.0|                1.0|             5.0|     152.0|        3.0|     (1,[0],[1.0])|      (2,[0],[1.0])|        (1,[],[])| (50,[5],[1.0])|(316,[152],[1.0])| (28,[3],[1.0])|(403,[0,1,9,206,3...|(403,[0,1,9,206,3...|[0.95380361940885...|[0.87075009487044...|       0.0|\n",
      "| 16045| 56|         5|        single|   norent_noown|           no|   Technician|          Thane|   Maharashtra|              5|               10|        0|                 0.0|                  2.0|                0.0|            26.0|      34.0|        1.0|     (1,[0],[1.0])|          (2,[],[])|    (1,[0],[1.0])|(50,[26],[1.0])| (316,[34],[1.0])| (28,[1],[1.0])|(403,[0,3,30,88,3...|(403,[0,3,30,88,3...|[0.97169054254646...|[0.87472312118510...|       0.0|\n",
      "| 16045| 56|         5|        single|   norent_noown|           no|   Technician|          Thane|   Maharashtra|              5|               10|        0|                 0.0|                  2.0|                0.0|            26.0|      34.0|        1.0|     (1,[0],[1.0])|          (2,[],[])|    (1,[0],[1.0])|(50,[26],[1.0])| (316,[34],[1.0])| (28,[1],[1.0])|(403,[0,3,30,88,3...|(403,[0,3,30,88,3...|[0.97169054254646...|[0.87472312118510...|       0.0|\n",
      "| 16045| 56|         5|        single|   norent_noown|           no|   Technician|          Thane|   Maharashtra|              5|               10|        0|                 0.0|                  2.0|                0.0|            26.0|      34.0|        1.0|     (1,[0],[1.0])|          (2,[],[])|    (1,[0],[1.0])|(50,[26],[1.0])| (316,[34],[1.0])| (28,[1],[1.0])|(403,[0,3,30,88,3...|(403,[0,3,30,88,3...|[0.97169054254646...|[0.87472312118510...|       0.0|\n",
      "| 16890| 21|         8|       married|         rented|           no|    Economist|    Farrukhabad| Uttar_Pradesh|              7|               13|        0|                 1.0|                  0.0|                0.0|            45.0|      48.0|        0.0|         (1,[],[])|      (2,[0],[1.0])|    (1,[0],[1.0])|(50,[45],[1.0])| (316,[48],[1.0])| (28,[0],[1.0])|(403,[1,3,49,102,...|(403,[1,3,49,102,...|[0.96407275804537...|[0.87304401444670...|       0.0|\n",
      "| 16890| 21|         8|       married|         rented|           no|    Economist|    Farrukhabad| Uttar_Pradesh|              7|               13|        0|                 1.0|                  0.0|                0.0|            45.0|      48.0|        0.0|         (1,[],[])|      (2,[0],[1.0])|    (1,[0],[1.0])|(50,[45],[1.0])| (316,[48],[1.0])| (28,[0],[1.0])|(403,[1,3,49,102,...|(403,[1,3,49,102,...|[0.96407275804537...|[0.87304401444670...|       0.0|\n",
      "| 16890| 21|         8|       married|         rented|           no|    Economist|    Farrukhabad| Uttar_Pradesh|              7|               13|        0|                 1.0|                  0.0|                0.0|            45.0|      48.0|        0.0|         (1,[],[])|      (2,[0],[1.0])|    (1,[0],[1.0])|(50,[45],[1.0])| (316,[48],[1.0])| (28,[0],[1.0])|(403,[1,3,49,102,...|(403,[1,3,49,102,...|[0.96407275804537...|[0.87304401444670...|       0.0|\n",
      "| 16896| 56|        20|       married|         rented|           no| Army_officer|        Aligarh| Uttar_Pradesh|              7|               12|        0|                 1.0|                  0.0|                0.0|            38.0|     108.0|        0.0|         (1,[],[])|      (2,[0],[1.0])|    (1,[0],[1.0])|(50,[38],[1.0])|(316,[108],[1.0])| (28,[0],[1.0])|(403,[1,3,42,162,...|(403,[1,3,42,162,...|[1.01657452437938...|[0.88423381857181...|       0.0|\n",
      "| 21831| 26|        14|        single|         rented|          yes|     Comedian|       Dindigul|    Tamil_Nadu|              5|               10|        0|                 0.0|                  0.0|                1.0|             5.0|     175.0|        5.0|     (1,[0],[1.0])|      (2,[0],[1.0])|        (1,[],[])| (50,[5],[1.0])|(316,[175],[1.0])| (28,[5],[1.0])|(403,[0,1,9,229,3...|(403,[0,1,9,229,3...|[0.74651888171329...|[0.81653378651932...|       0.0|\n",
      "+------+---+----------+--------------+---------------+-------------+-------------+---------------+--------------+---------------+-----------------+---------+--------------------+---------------------+-------------------+----------------+----------+-----------+------------------+-------------------+-----------------+---------------+-----------------+---------------+--------------------+--------------------+--------------------+--------------------+----------+\n",
      "only showing top 20 rows\n",
      "\n"
     ]
    }
   ],
   "source": [
    "best_model,best_model_name = get_best_model(models,model_names,train_data,test_data)\n",
    "best_predictions = best_model.transform(test_data)\n",
    "best_predictions.show()"
   ]
  },
  {
   "cell_type": "code",
   "execution_count": 19,
   "metadata": {},
   "outputs": [],
   "source": [
    "best_predictions.toPandas().to_csv(\"predictions.csv\")"
   ]
  },
  {
   "cell_type": "code",
   "execution_count": 20,
   "metadata": {},
   "outputs": [],
   "source": [
    "def get_feature_importance(best_model,best_model_name):\n",
    "    # Get feature importances if the best model is DecisionTree or RandomForest or Gradient boost\n",
    "    if best_model_name in ['Decision Tree', 'Random Forest','Gradient boost']:\n",
    "        # Extract the actual classifier model from the pipeline\n",
    "        classifier_model = best_model.stages[-1]\n",
    "        importances = classifier_model.featureImportances\n",
    "        feature_importance = [(name, importance) for name, importance in zip(encoded_feature_cols, importances)]\n",
    "        feature_importance.sort(key=lambda x: x[1], reverse=True)  # Sort by importance\n",
    "        print(f\"Feature importances for {best_model_name}:\")\n",
    "        for feature, importance in feature_importance:\n",
    "            print(f\"{feature}: {importance}\")\n",
    "\n",
    "    elif best_model_name == 'Logistic Regression':\n",
    "        # For Logistic Regression, use the coefficients as feature importance\n",
    "        classifier_model = best_model.stages[-1]\n",
    "        coefficients = classifier_model.coefficients\n",
    "        feature_importance = [(name, abs(coef)) for name, coef in zip(encoded_feature_cols, coefficients)]\n",
    "        feature_importance.sort(key=lambda x: x[1], reverse=True)  # Sort by absolute coefficient value\n",
    "        print(f\"Feature importances for {best_model_name}:\")\n",
    "        for feature, importance in feature_importance:\n",
    "            print(f\"{feature}: {importance}\")"
   ]
  },
  {
   "cell_type": "code",
   "execution_count": 21,
   "metadata": {},
   "outputs": [
    {
     "name": "stdout",
     "output_type": "stream",
     "text": [
      "Feature importances for Gradient boost:\n",
      "Profession_ohe: 0.020506304463426567\n",
      "Married/Single_ohe: 0.018200832736264414\n",
      "Car_Ownership_ohe: 0.007125909228949184\n",
      "Income: 0.004932425579426436\n",
      "House_Ownership_ohe: 0.0046896154779993305\n",
      "CITY_ohe: 0.0008982305430057387\n",
      "STATE_ohe: 0.0004909574796331443\n",
      "Age: 0.00038890263716537656\n",
      "Experience: 0.00032139821933720094\n",
      "CURRENT_HOUSE_YRS: 1.2080082634772259e-08\n",
      "CURRENT_JOB_YRS: 0.0\n"
     ]
    }
   ],
   "source": [
    "get_feature_importance(best_model,best_model_name)"
   ]
  },
  {
   "cell_type": "code",
   "execution_count": 28,
   "metadata": {},
   "outputs": [
    {
     "name": "stdout",
     "output_type": "stream",
     "text": [
      "+-------+------------------+------------------+------------------+--------------+---------------+-------------+--------------------+-----------+--------------+------------------+------------------+-------------------+\n",
      "|summary|            Income|               Age|        Experience|Married/Single|House_Ownership|Car_Ownership|          Profession|       CITY|         STATE|   CURRENT_JOB_YRS| CURRENT_HOUSE_YRS|          Risk_Flag|\n",
      "+-------+------------------+------------------+------------------+--------------+---------------+-------------+--------------------+-----------+--------------+------------------+------------------+-------------------+\n",
      "|  count|            201842|            201842|            201842|        201842|         201842|       201842|              201842|     201842|        201842|            201842|            201842|             201842|\n",
      "|   mean| 4997859.481168439|49.949524875893026|10.078868620009711|          NULL|           NULL|         NULL|                NULL|       NULL|          NULL| 6.327429375452087|11.998047978121502| 0.1231904162661884|\n",
      "| stddev|2880153.7150583286|17.063902154878942|6.0028643975449345|          NULL|           NULL|         NULL|                NULL|       NULL|          NULL|3.6464846215094764|1.3989324002046861|0.32865646616644306|\n",
      "|    min|             10310|                21|                 0|       married|   norent_noown|           no|Air_traffic_contr...|      Adoni|Andhra_Pradesh|                 0|                10|                  0|\n",
      "|    max|           9999938|                79|                20|        single|         rented|          yes|        Web_designer|Yamunanagar|   West_Bengal|                14|                14|                  1|\n",
      "+-------+------------------+------------------+------------------+--------------+---------------+-------------+--------------------+-----------+--------------+------------------+------------------+-------------------+\n",
      "\n"
     ]
    }
   ],
   "source": [
    "#train_df01 = train_data.show()\n",
    "\n",
    "train_data.describe().show()"
   ]
  }
 ],
 "metadata": {
  "kernelspec": {
   "display_name": "base",
   "language": "python",
   "name": "python3"
  },
  "language_info": {
   "codemirror_mode": {
    "name": "ipython",
    "version": 3
   },
   "file_extension": ".py",
   "mimetype": "text/x-python",
   "name": "python",
   "nbconvert_exporter": "python",
   "pygments_lexer": "ipython3",
   "version": "3.11.7"
  }
 },
 "nbformat": 4,
 "nbformat_minor": 2
}
